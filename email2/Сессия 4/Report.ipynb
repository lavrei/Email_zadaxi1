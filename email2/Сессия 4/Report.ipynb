{
 "cells": [
  {
   "cell_type": "markdown",
   "metadata": {},
   "source": [
    "скачиваем библиотеки"
   ]
  },
  {
   "cell_type": "code",
   "execution_count": 1,
   "metadata": {},
   "outputs": [
    {
     "name": "stdout",
     "output_type": "stream",
     "text": [
      "Collecting pandas\n",
      "  Using cached pandas-2.2.0-cp311-cp311-manylinux_2_17_x86_64.manylinux2014_x86_64.whl.metadata (19 kB)\n",
      "Collecting numpy<2,>=1.23.2 (from pandas)\n",
      "  Using cached numpy-1.26.4-cp311-cp311-manylinux_2_17_x86_64.manylinux2014_x86_64.whl.metadata (61 kB)\n",
      "Requirement already satisfied: python-dateutil>=2.8.2 in ./.venv/lib/python3.11/site-packages (from pandas) (2.8.2)\n",
      "Collecting pytz>=2020.1 (from pandas)\n",
      "  Using cached pytz-2024.1-py2.py3-none-any.whl.metadata (22 kB)\n",
      "Collecting tzdata>=2022.7 (from pandas)\n",
      "  Using cached tzdata-2024.1-py2.py3-none-any.whl.metadata (1.4 kB)\n",
      "Requirement already satisfied: six>=1.5 in ./.venv/lib/python3.11/site-packages (from python-dateutil>=2.8.2->pandas) (1.16.0)\n",
      "Using cached pandas-2.2.0-cp311-cp311-manylinux_2_17_x86_64.manylinux2014_x86_64.whl (13.0 MB)\n",
      "Using cached numpy-1.26.4-cp311-cp311-manylinux_2_17_x86_64.manylinux2014_x86_64.whl (18.3 MB)\n",
      "Using cached pytz-2024.1-py2.py3-none-any.whl (505 kB)\n",
      "Using cached tzdata-2024.1-py2.py3-none-any.whl (345 kB)\n",
      "Installing collected packages: pytz, tzdata, numpy, pandas\n",
      "Successfully installed numpy-1.26.4 pandas-2.2.0 pytz-2024.1 tzdata-2024.1\n"
     ]
    }
   ],
   "source": [
    "!pip install pandas"
   ]
  },
  {
   "cell_type": "markdown",
   "metadata": {},
   "source": [
    "импортируем библиотеки"
   ]
  },
  {
   "cell_type": "code",
   "execution_count": 5,
   "metadata": {},
   "outputs": [],
   "source": [
    "import pandas as pd\n",
    "import re\n",
    "import tkinter as tk\n",
    "from tkinter import scrolledtext"
   ]
  },
  {
   "cell_type": "markdown",
   "metadata": {},
   "source": [
    "загружаем данные"
   ]
  },
  {
   "cell_type": "code",
   "execution_count": 4,
   "metadata": {},
   "outputs": [],
   "source": [
    "full_df = pd.read_csv('full_df.csv')\n",
    "sample_sub = pd.read_csv('sample_sub.csv')\n",
    "train_new = pd.read_csv('train_new.csv')"
   ]
  },
  {
   "cell_type": "markdown",
   "metadata": {},
   "source": [
    "# 4.1 Разработка приложения"
   ]
  },
  {
   "cell_type": "markdown",
   "metadata": {},
   "source": [
    "Комманды бота Выдать_предсказания, Справка"
   ]
  },
  {
   "cell_type": "code",
   "execution_count": 8,
   "metadata": {},
   "outputs": [],
   "source": [
    "df = pd.DataFrame(sample_sub)\n",
    "\n",
    "# Пример команд и их действий\n",
    "commands = {\n",
    "    \"Выдать_предсказания\": {\"Predict\": None},\n",
    "    \"справка\": None,\n",
    "}\n",
    "\n",
    "def find_recipient_by_description(description):\n",
    "    # Ваш код для определения адресата по описанию\n",
    "    # (в данном примере просто возвращает первого адресата)\n",
    "    return df[df[\"Predict\"] == description][\"Предсказания\"].values[0]\n",
    "\n",
    "def execute_command(command, params):\n",
    "    if command == \"Выдать предсказания\":\n",
    "        description = params[\"predict\"]\n",
    "        try:\n",
    "            recipient = find_recipient_by_description(description)\n",
    "            return f\"Предсказания: {recipient}\"\n",
    "        except IndexError:\n",
    "            return \"Предсказания не найдены\"\n",
    "    \n",
    "    elif command == \"справка\":\n",
    "        return \"Справка по командам: Выдать_предсказания, справка\"\n",
    "    \n",
    "    else:\n",
    "        return \"Неизвестная команда\"\n",
    "\n",
    "def process_user_input():\n",
    "    user_input = input_entry.get()\n",
    "    if user_input.lower() == \"выход\":\n",
    "        root.destroy()\n",
    "    else:\n",
    "        command = parse_command(user_input)\n",
    "        if command:\n",
    "            params = extract_params(user_input, command)\n",
    "            result = execute_command(command, params)\n",
    "            output_text.insert(tk.END, f\"\\nПользователь: {user_input}\\nБот: {result}\\n\")\n",
    "            output_text.yview(tk.END)\n",
    "        else:\n",
    "            output_text.insert(tk.END, f\"\\nПользователь: {user_input}\\nБот: Не удалось распознать команду\\n\")\n",
    "            output_text.yview(tk.END)\n",
    "\n",
    "def parse_command(text):\n",
    "    # Пример парсинга команды по ключевым словам с использованием регулярных выражений\n",
    "    if \"Выдать предсказания\" in text:\n",
    "        return \"Выдать_предсказания\"\n",
    "    elif \"справка\" in text:\n",
    "        return \"справка\"\n",
    "    else:\n",
    "        return None\n",
    "\n",
    "def extract_params(text, command):\n",
    "    # Пример извлечения параметров из текста команды\n",
    "    params = {}\n",
    "    if command == \"Выдать_предсказания\":\n",
    "        match = re.search(r\"Выдать предсказания (.+)\", text)\n",
    "        if match:\n",
    "            params[\"Predict\"] = match.group(1)\n",
    "    return params\n",
    "\n",
    "# Создание графического интерфейса с использованием Tkinter\n",
    "root = tk.Tk()\n",
    "root.title(\"Бот\")\n",
    "\n",
    "# Создание текстового поля для вывода результата\n",
    "output_text = scrolledtext.ScrolledText(root, height=20, width=50)\n",
    "output_text.pack()\n",
    "\n",
    "# Создание поля для ввода команды\n",
    "input_entry = tk.Entry(root, width=50)\n",
    "input_entry.pack()\n",
    "\n",
    "# Создание кнопки \"Отправить\"\n",
    "send_button = tk.Button(root, text=\"Отправить\", command=process_user_input)\n",
    "send_button.pack()\n",
    "\n",
    "root.mainloop()\n"
   ]
  },
  {
   "attachments": {
    "image.png": {
     "image/png": "[encoded data removed]"
    }
   },
   "cell_type": "markdown",
   "metadata": {},
   "source": [
    "![image.png](attachment:image.png)"
   ]
  },
  {
   "attachments": {
    "image.png": {
     "image/png": "[encoded data removed]"
    }
   },
   "cell_type": "markdown",
   "metadata": {},
   "source": [
    "![image.png](attachment:image.png)"
   ]
  },
  {
   "cell_type": "markdown",
   "metadata": {},
   "source": [
    "как видно бот работает"
   ]
  },
  {
   "cell_type": "markdown",
   "metadata": {},
   "source": [
    "# 4.2 Интеграция справки в приложение"
   ]
  },
  {
   "cell_type": "markdown",
   "metadata": {},
   "source": [
    "Справка уже интегрированна в бота"
   ]
  },
  {
   "attachments": {
    "image.png": {
     "image/png": "[encoded data removed]"
    }
   },
   "cell_type": "markdown",
   "metadata": {},
   "source": [
    "![image.png](attachment:image.png)"
   ]
  },
  {
   "cell_type": "markdown",
   "metadata": {},
   "source": [
    "как видно справка интегрированна в бота"
   ]
  },
  {
   "cell_type": "markdown",
   "metadata": {},
   "source": [
    "# 4.3 Подготовка отчета"
   ]
  },
  {
   "cell_type": "markdown",
   "metadata": {},
   "source": [
    "В результате данной сессии почти вся работа была выполнена\n",
    "\n",
    "4.1 Разработка приложения\n",
    "\n",
    "Был разработан программный продукт, который будет выполнять следующие\n",
    "действия:\n",
    " \n",
    "- позволит пользователю вводить данные в удобном виде;\n",
    " \n",
    "- выдавать результат предсказания целевой переменной;\n",
    " \n",
    "- осуществлять вывод информации по обработке и анализу данных в отдельный файл.\n",
    "\n",
    "4.2 Интеграция справки в приложение\n",
    "\n",
    "- Справка благополучна была интегрированна в бота\n",
    "\n",
    "4.3 Подготовка отчета\n",
    "\n",
    "- Был подготовлен отчет о проделанной работе по итогам сессии, в котором\n",
    "представлены результаты, выводы и обоснования выбора по каждому разделу задания.\n",
    "Результаты работы состоять из отчетов в формате .html и исходников с возможностью\n",
    "перекомпиляции. Архив Data.zip должен содержит все результаты выполнения модуля, а также\n",
    "все необходимые файлы для запуска и проверки участков кода."
   ]
  }
 ],
 "metadata": {
  "kernelspec": {
   "display_name": ".venv",
   "language": "python",
   "name": "python3"
  },
  "language_info": {
   "codemirror_mode": {
    "name": "ipython",
    "version": 3
   },
   "file_extension": ".py",
   "mimetype": "text/x-python",
   "name": "python",
   "nbconvert_exporter": "python",
   "pygments_lexer": "ipython3",
   "version": "3.11.7"
  }
 },
 "nbformat": 4,
 "nbformat_minor": 2
}
